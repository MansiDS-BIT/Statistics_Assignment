{
 "cells": [
  {
   "cell_type": "markdown",
   "metadata": {},
   "source": [
    " 1. Generate a list of 100 integers containing values between 90 to 130 and store it in the variable `int_list`. After generating the list, find the following:"
   ]
  },
  {
   "cell_type": "code",
   "execution_count": 1,
   "metadata": {},
   "outputs": [],
   "source": [
    "import random\n",
    "\n",
    "def generate_list():\n",
    "    return [random.randint(90, 130) for _ in range(100)]\n",
    "\n",
    "int_list = generate_list()\n"
   ]
  },
  {
   "cell_type": "markdown",
   "metadata": {},
   "source": [
    " (i) Write a Python function to calculate the mean of a given list of numbers.\n",
    " Create a function to find the median of a list of numbers."
   ]
  },
  {
   "cell_type": "code",
   "execution_count": null,
   "metadata": {},
   "outputs": [
    {
     "name": "stdout",
     "output_type": "stream",
     "text": [
      "Mean: 108.96\n"
     ]
    }
   ],
   "source": [
    "\n",
    "def mean(numbers):\n",
    "    return sum(numbers) / len(numbers)\n",
    "\n",
    "print(\"Mean:\", mean(int_list))\n",
    "\n",
    "import statistics\n",
    "\n",
    "def median(numbers):\n",
    "    return statistics.median(numbers)\n",
    "\n",
    "print(\"Median:\", median(int_list))\n"
   ]
  },
  {
   "cell_type": "markdown",
   "metadata": {},
   "source": [
    " (ii) Develop a program to compute the mode of a list of integers.\n"
   ]
  },
  {
   "cell_type": "code",
   "execution_count": 4,
   "metadata": {},
   "outputs": [
    {
     "name": "stdout",
     "output_type": "stream",
     "text": [
      "Mode: 93\n"
     ]
    }
   ],
   "source": [
    "def mode(numbers):\n",
    "    return statistics.mode(numbers)\n",
    "\n",
    "print(\"Mode:\", mode(int_list))\n"
   ]
  },
  {
   "cell_type": "markdown",
   "metadata": {},
   "source": [
    " (iii) Implement a function to calculate the weighted mean of a list of values and their corresponding weights.\n"
   ]
  },
  {
   "cell_type": "code",
   "execution_count": 5,
   "metadata": {},
   "outputs": [
    {
     "name": "stdout",
     "output_type": "stream",
     "text": [
      "Weighted Mean: 108.96\n"
     ]
    }
   ],
   "source": [
    "def weighted_mean(values, weights):\n",
    "    return sum(v * w for v, w in zip(values, weights)) / sum(weights)\n",
    "\n",
    "weights = [1] * len(int_list)  # Assigning equal weights\n",
    "print(\"Weighted Mean:\", weighted_mean(int_list, weights))\n"
   ]
  },
  {
   "cell_type": "markdown",
   "metadata": {},
   "source": [
    " (iv) Write a Python function to find the geometric mean of a list of positive numbers.\n"
   ]
  },
  {
   "cell_type": "code",
   "execution_count": 6,
   "metadata": {},
   "outputs": [
    {
     "name": "stdout",
     "output_type": "stream",
     "text": [
      "Geometric Mean: 0.0\n"
     ]
    }
   ],
   "source": [
    "import numpy as np\n",
    "\n",
    "def geometric_mean(numbers):\n",
    "    return np.prod(numbers) ** (1 / len(numbers))\n",
    "\n",
    "print(\"Geometric Mean:\", geometric_mean(int_list))\n"
   ]
  },
  {
   "cell_type": "markdown",
   "metadata": {},
   "source": [
    " (v) Create a program to calculate the harmonic mean of a list of values.\n"
   ]
  },
  {
   "cell_type": "code",
   "execution_count": 7,
   "metadata": {},
   "outputs": [
    {
     "name": "stdout",
     "output_type": "stream",
     "text": [
      "Harmonic Mean: 107.52387069439247\n"
     ]
    }
   ],
   "source": [
    "def harmonic_mean(numbers):\n",
    "    return len(numbers) / sum(1 / num for num in numbers)\n",
    "\n",
    "print(\"Harmonic Mean:\", harmonic_mean(int_list))\n"
   ]
  },
  {
   "cell_type": "markdown",
   "metadata": {},
   "source": [
    " (vi) Build a function to determine the midrange of a list of numbers (average of the minimum and maximum).\n"
   ]
  },
  {
   "cell_type": "code",
   "execution_count": 8,
   "metadata": {},
   "outputs": [
    {
     "name": "stdout",
     "output_type": "stream",
     "text": [
      "Midrange: 110.0\n"
     ]
    }
   ],
   "source": [
    "def midrange(numbers):\n",
    "    return (min(numbers) + max(numbers)) / 2\n",
    "\n",
    "print(\"Midrange:\", midrange(int_list))\n"
   ]
  },
  {
   "cell_type": "markdown",
   "metadata": {},
   "source": [
    "(vii) Implement a Python program to find the trimmed mean of a list, excluding a certain percentage of outliers."
   ]
  },
  {
   "cell_type": "code",
   "execution_count": 9,
   "metadata": {},
   "outputs": [
    {
     "name": "stdout",
     "output_type": "stream",
     "text": [
      "Trimmed Mean (10%): 108.6375\n"
     ]
    }
   ],
   "source": [
    "def trimmed_mean(numbers, percentage):\n",
    "    trim_count = int(len(numbers) * percentage / 100)\n",
    "    sorted_numbers = sorted(numbers)\n",
    "    return mean(sorted_numbers[trim_count:-trim_count]) if trim_count > 0 else mean(sorted_numbers)\n",
    "\n",
    "print(\"Trimmed Mean (10%):\", trimmed_mean(int_list, 10))\n"
   ]
  },
  {
   "cell_type": "markdown",
   "metadata": {},
   "source": [
    " 2. Generate a list of 500 integers containing values between 200 to 300 and store it in the variable `int_list2`. After generating the list, find the following:"
   ]
  },
  {
   "cell_type": "code",
   "execution_count": 10,
   "metadata": {},
   "outputs": [],
   "source": [
    "import random\n",
    "\n",
    "def generate_list2():\n",
    "    return [random.randint(200, 300) for _ in range(500)]\n",
    "\n",
    "int_list2 = generate_list2()\n"
   ]
  },
  {
   "cell_type": "markdown",
   "metadata": {},
   "source": [
    " (i) Compare the given list of visualization for the given data:\n",
    " 1. Frequency & Gaussian distribution\n",
    " 2. Frequency smoothened KDE plot\n",
    " 3. Gaussian distribution & smoothened KDE plot"
   ]
  },
  {
   "cell_type": "code",
   "execution_count": 11,
   "metadata": {},
   "outputs": [
    {
     "data": {
      "image/png": "[encoded data removed]",
      "text/plain": [
       "<Figure size 1000x500 with 1 Axes>"
      ]
     },
     "metadata": {},
     "output_type": "display_data"
    }
   ],
   "source": [
    "import matplotlib.pyplot as plt\n",
    "import seaborn as sns\n",
    "import numpy as np\n",
    "from scipy.stats import norm\n",
    "\n",
    "def plot_frequency_gaussian(numbers):\n",
    "    plt.figure(figsize=(10, 5))\n",
    "    \n",
    "    # Histogram\n",
    "    sns.histplot(numbers, bins=20, kde=False, color='blue', stat=\"density\", label=\"Frequency\")\n",
    "    \n",
    "    # Gaussian Distribution\n",
    "    mu, sigma = np.mean(numbers), np.std(numbers)\n",
    "    x = np.linspace(min(numbers), max(numbers), 100)\n",
    "    plt.plot(x, norm.pdf(x, mu, sigma), color='red', label=\"Gaussian Distribution\")\n",
    "    \n",
    "    plt.legend()\n",
    "    plt.title(\"Frequency & Gaussian Distribution\")\n",
    "    plt.show()\n",
    "\n",
    "plot_frequency_gaussian(int_list2)\n"
   ]
  },
  {
   "cell_type": "code",
   "execution_count": 12,
   "metadata": {},
   "outputs": [
    {
     "data": {
      "image/png": "[encoded data removed]",
      "text/plain": [
       "<Figure size 1000x500 with 1 Axes>"
      ]
     },
     "metadata": {},
     "output_type": "display_data"
    }
   ],
   "source": [
    "def plot_frequency_kde(numbers):\n",
    "    plt.figure(figsize=(10, 5))\n",
    "    \n",
    "    # KDE Plot\n",
    "    sns.kdeplot(numbers, fill=True, color='green', label=\"Smoothened KDE\")\n",
    "    \n",
    "    plt.legend()\n",
    "    plt.title(\"Frequency Smoothened KDE Plot\")\n",
    "    plt.show()\n",
    "\n",
    "plot_frequency_kde(int_list2)\n"
   ]
  },
  {
   "cell_type": "code",
   "execution_count": 13,
   "metadata": {},
   "outputs": [
    {
     "data": {
      "image/png": "[encoded data removed]",
      "text/plain": [
       "<Figure size 1000x500 with 1 Axes>"
      ]
     },
     "metadata": {},
     "output_type": "display_data"
    }
   ],
   "source": [
    "def plot_gaussian_kde(numbers):\n",
    "    plt.figure(figsize=(10, 5))\n",
    "    \n",
    "    # KDE Plot\n",
    "    sns.kdeplot(numbers, fill=True, color='blue', label=\"KDE Plot\")\n",
    "    \n",
    "    # Gaussian Distribution\n",
    "    mu, sigma = np.mean(numbers), np.std(numbers)\n",
    "    x = np.linspace(min(numbers), max(numbers), 100)\n",
    "    plt.plot(x, norm.pdf(x, mu, sigma), color='red', label=\"Gaussian Distribution\")\n",
    "    \n",
    "    plt.legend()\n",
    "    plt.title(\"Gaussian Distribution & Smoothened KDE Plot\")\n",
    "    plt.show()\n",
    "\n",
    "plot_gaussian_kde(int_list2)\n"
   ]
  },
  {
   "cell_type": "markdown",
   "metadata": {},
   "source": [
    " (ii) Write a Python function to calculate the range of a given list of numbers.\n"
   ]
  },
  {
   "cell_type": "code",
   "execution_count": 14,
   "metadata": {},
   "outputs": [
    {
     "name": "stdout",
     "output_type": "stream",
     "text": [
      "Range: 100\n"
     ]
    }
   ],
   "source": [
    "def calculate_range(numbers):\n",
    "    return max(numbers) - min(numbers)\n",
    "\n",
    "print(\"Range:\", calculate_range(int_list2))\n"
   ]
  },
  {
   "cell_type": "markdown",
   "metadata": {},
   "source": [
    " (iii) Create a program to find the variance and standard deviation of a list of numbers.\n"
   ]
  },
  {
   "cell_type": "code",
   "execution_count": 15,
   "metadata": {},
   "outputs": [
    {
     "name": "stdout",
     "output_type": "stream",
     "text": [
      "Variance: 808.9328096192385\n",
      "Standard Deviation: 28.44174413813679\n"
     ]
    }
   ],
   "source": [
    "import statistics\n",
    "\n",
    "def calculate_variance(numbers):\n",
    "    return statistics.variance(numbers)\n",
    "\n",
    "def calculate_std_dev(numbers):\n",
    "    return statistics.stdev(numbers)\n",
    "\n",
    "print(\"Variance:\", calculate_variance(int_list2))\n",
    "print(\"Standard Deviation:\", calculate_std_dev(int_list2))\n"
   ]
  },
  {
   "cell_type": "markdown",
   "metadata": {},
   "source": [
    " (iv) Implement a function to compute the interquartile range (IQR) of a list of values.\n"
   ]
  },
  {
   "cell_type": "code",
   "execution_count": 16,
   "metadata": {},
   "outputs": [
    {
     "name": "stdout",
     "output_type": "stream",
     "text": [
      "Interquartile Range (IQR): 47.0\n"
     ]
    }
   ],
   "source": [
    "import numpy as np\n",
    "\n",
    "def calculate_iqr(numbers):\n",
    "    q3, q1 = np.percentile(numbers, [75, 25])\n",
    "    return q3 - q1\n",
    "\n",
    "print(\"Interquartile Range (IQR):\", calculate_iqr(int_list2))\n"
   ]
  },
  {
   "cell_type": "markdown",
   "metadata": {},
   "source": [
    " (v) Build a program to calculate the coefficient of variation for a dataset.\n",
    "\n"
   ]
  },
  {
   "cell_type": "code",
   "execution_count": 17,
   "metadata": {},
   "outputs": [
    {
     "name": "stdout",
     "output_type": "stream",
     "text": [
      "Coefficient of Variation: 11.171850602605344\n"
     ]
    }
   ],
   "source": [
    "def coefficient_of_variation(numbers):\n",
    "    return (statistics.stdev(numbers) / statistics.mean(numbers)) * 100\n",
    "\n",
    "print(\"Coefficient of Variation:\", coefficient_of_variation(int_list2))\n"
   ]
  },
  {
   "cell_type": "markdown",
   "metadata": {},
   "source": [
    " (vi) Write a Python function to find the mean absolute deviation (MAD) of a list of numbers.\n"
   ]
  },
  {
   "cell_type": "code",
   "execution_count": 18,
   "metadata": {},
   "outputs": [
    {
     "name": "stdout",
     "output_type": "stream",
     "text": [
      "Mean Absolute Deviation (MAD): 24.386656\n"
     ]
    }
   ],
   "source": [
    "def mean_absolute_deviation(numbers):\n",
    "    mean_value = statistics.mean(numbers)\n",
    "    return sum(abs(x - mean_value) for x in numbers) / len(numbers)\n",
    "\n",
    "print(\"Mean Absolute Deviation (MAD):\", mean_absolute_deviation(int_list2))\n"
   ]
  },
  {
   "cell_type": "markdown",
   "metadata": {},
   "source": [
    " (vii) Create a program to calculate the quartile deviation of a list of values.\n"
   ]
  },
  {
   "cell_type": "code",
   "execution_count": 19,
   "metadata": {},
   "outputs": [
    {
     "name": "stdout",
     "output_type": "stream",
     "text": [
      "Quartile Deviation: 23.5\n"
     ]
    }
   ],
   "source": [
    "def quartile_deviation(numbers):\n",
    "    q3, q1 = np.percentile(numbers, [75, 25])\n",
    "    return (q3 - q1) / 2\n",
    "\n",
    "print(\"Quartile Deviation:\", quartile_deviation(int_list2))\n"
   ]
  },
  {
   "cell_type": "markdown",
   "metadata": {},
   "source": [
    " (viii) Implement a function to find the range-based coefficient of dispersion for a dataset."
   ]
  },
  {
   "cell_type": "code",
   "execution_count": 20,
   "metadata": {},
   "outputs": [
    {
     "name": "stdout",
     "output_type": "stream",
     "text": [
      "Range-Based Coefficient of Dispersion: 0.2\n"
     ]
    }
   ],
   "source": [
    "def range_based_coefficient_of_dispersion(numbers):\n",
    "    return (max(numbers) - min(numbers)) / (max(numbers) + min(numbers))\n",
    "\n",
    "print(\"Range-Based Coefficient of Dispersion:\", range_based_coefficient_of_dispersion(int_list2))\n"
   ]
  },
  {
   "cell_type": "markdown",
   "metadata": {},
   "source": [
    "3. Write a Python class representing a discrete random variable with methods to calculate its expected value and variance."
   ]
  },
  {
   "cell_type": "code",
   "execution_count": 21,
   "metadata": {},
   "outputs": [
    {
     "name": "stdout",
     "output_type": "stream",
     "text": [
      "Expected Value: 3.2\n",
      "Variance: 1.5599999999999987\n"
     ]
    }
   ],
   "source": [
    "class DiscreteRandomVariable:\n",
    "    def __init__(self, values, probabilities):\n",
    "        \"\"\"\n",
    "        Initializes the discrete random variable.\n",
    "        \n",
    "        :param values: List of discrete values.\n",
    "        :param probabilities: List of corresponding probabilities.\n",
    "        \"\"\"\n",
    "        if len(values) != len(probabilities):\n",
    "            raise ValueError(\"Values and probabilities must have the same length.\")\n",
    "        if not (0.999 <= sum(probabilities) <= 1.001):  # Allow small floating-point precision errors\n",
    "            raise ValueError(\"Probabilities must sum to 1.\")\n",
    "        \n",
    "        self.values = values\n",
    "        self.probabilities = probabilities\n",
    "\n",
    "    def expected_value(self):\n",
    "        \"\"\"\n",
    "        Calculates the expected value (mean) of the discrete random variable.\n",
    "        \n",
    "        E(X) = Σ [x * P(x)]\n",
    "        \"\"\"\n",
    "        return sum(v * p for v, p in zip(self.values, self.probabilities))\n",
    "\n",
    "    def variance(self):\n",
    "        \"\"\"\n",
    "        Calculates the variance of the discrete random variable.\n",
    "        \n",
    "        Var(X) = E(X^2) - (E(X))^2\n",
    "        \"\"\"\n",
    "        mean = self.expected_value()\n",
    "        expected_x2 = sum(v**2 * p for v, p in zip(self.values, self.probabilities))\n",
    "        return expected_x2 - mean**2\n",
    "\n",
    "\n",
    "# Example Usage:\n",
    "values = [1, 2, 3, 4, 5]\n",
    "probabilities = [0.1, 0.2, 0.3, 0.2, 0.2]\n",
    "\n",
    "rv = DiscreteRandomVariable(values, probabilities)\n",
    "\n",
    "print(\"Expected Value:\", rv.expected_value())  # E(X)\n",
    "print(\"Variance:\", rv.variance())  # Var(X)\n"
   ]
  },
  {
   "cell_type": "markdown",
   "metadata": {},
   "source": [
    "4. Implement a program to simulate the rolling of a fair six-sided die and calculate the expected value and variance of the outcomes"
   ]
  },
  {
   "cell_type": "code",
   "execution_count": 22,
   "metadata": {},
   "outputs": [
    {
     "name": "stdout",
     "output_type": "stream",
     "text": [
      "Expected Value: 3.5052\n",
      "Variance: 2.9495729600000002\n"
     ]
    }
   ],
   "source": [
    "import random\n",
    "\n",
    "class DiceSimulation:\n",
    "    def __init__(self, num_rolls):\n",
    "        \"\"\"\n",
    "        Initializes the simulation with the number of rolls.\n",
    "        :param num_rolls: Number of times the die will be rolled.\n",
    "        \"\"\"\n",
    "        self.num_rolls = num_rolls\n",
    "        self.outcomes = []\n",
    "\n",
    "    def roll_dice(self):\n",
    "        \"\"\"Simulates rolling a fair six-sided die multiple times.\"\"\"\n",
    "        self.outcomes = [random.randint(1, 6) for _ in range(self.num_rolls)]\n",
    "\n",
    "    def expected_value(self):\n",
    "        \"\"\"Calculates the expected value (mean) of the rolled outcomes.\"\"\"\n",
    "        return sum(self.outcomes) / len(self.outcomes)\n",
    "\n",
    "    def variance(self):\n",
    "        \"\"\"Calculates the variance of the rolled outcomes.\"\"\"\n",
    "        mean = self.expected_value()\n",
    "        return sum((x - mean) ** 2 for x in self.outcomes) / len(self.outcomes)\n",
    "\n",
    "# Simulate rolling the die 10,000 times\n",
    "num_rolls = 10000\n",
    "simulation = DiceSimulation(num_rolls)\n",
    "simulation.roll_dice()\n",
    "\n",
    "# Compute expected value and variance\n",
    "print(\"Expected Value:\", simulation.expected_value())  # Should be close to 3.5\n",
    "print(\"Variance:\", simulation.variance())  # Should be close to 2.9167\n"
   ]
  },
  {
   "cell_type": "markdown",
   "metadata": {},
   "source": [
    "5.  Create a Python function to generate random samples from a given probability distribution (e.g., binomial, Poisson) and calculate their mean and variance."
   ]
  },
  {
   "cell_type": "code",
   "execution_count": 23,
   "metadata": {},
   "outputs": [
    {
     "name": "stdout",
     "output_type": "stream",
     "text": [
      "Binomial Distribution - Mean: 5.018 Variance: 2.397676\n",
      "Poisson Distribution - Mean: 4.992 Variance: 5.033936\n",
      "Normal Distribution - Mean: 0.015248364619594333 Variance: 0.9896980541184511\n",
      "Uniform Distribution - Mean: 4.949839664395798 Variance: 8.595277887748445\n"
     ]
    }
   ],
   "source": [
    "import numpy as np\n",
    "\n",
    "def generate_samples(distribution, params, sample_size=1000):\n",
    "    \"\"\"\n",
    "    Generates random samples from a specified probability distribution and calculates the mean and variance.\n",
    "\n",
    "    :param distribution: Type of distribution ('binomial', 'poisson', 'normal', 'uniform').\n",
    "    :param params: Parameters for the distribution (tuple).\n",
    "                   - Binomial: (n, p)\n",
    "                   - Poisson: (lambda,)\n",
    "                   - Normal: (mean, std_dev)\n",
    "                   - Uniform: (low, high)\n",
    "    :param sample_size: Number of random samples to generate (default=1000).\n",
    "    \n",
    "    :return: (samples, mean, variance)\n",
    "    \"\"\"\n",
    "    if distribution == \"binomial\":\n",
    "        n, p = params\n",
    "        samples = np.random.binomial(n, p, sample_size)\n",
    "    elif distribution == \"poisson\":\n",
    "        lam = params[0]\n",
    "        samples = np.random.poisson(lam, sample_size)\n",
    "    elif distribution == \"normal\":\n",
    "        mean, std_dev = params\n",
    "        samples = np.random.normal(mean, std_dev, sample_size)\n",
    "    elif distribution == \"uniform\":\n",
    "        low, high = params\n",
    "        samples = np.random.uniform(low, high, sample_size)\n",
    "    else:\n",
    "        raise ValueError(\"Unsupported distribution type.\")\n",
    "\n",
    "    mean_value = np.mean(samples)\n",
    "    variance_value = np.var(samples)\n",
    "\n",
    "    return samples, mean_value, variance_value\n",
    "\n",
    "# Example Usage:\n",
    "samples, mean, variance = generate_samples(\"binomial\", (10, 0.5), 1000)\n",
    "print(\"Binomial Distribution - Mean:\", mean, \"Variance:\", variance)\n",
    "\n",
    "samples, mean, variance = generate_samples(\"poisson\", (5,), 1000)\n",
    "print(\"Poisson Distribution - Mean:\", mean, \"Variance:\", variance)\n",
    "\n",
    "samples, mean, variance = generate_samples(\"normal\", (0, 1), 1000)\n",
    "print(\"Normal Distribution - Mean:\", mean, \"Variance:\", variance)\n",
    "\n",
    "samples, mean, variance = generate_samples(\"uniform\", (0, 10), 1000)\n",
    "print(\"Uniform Distribution - Mean:\", mean, \"Variance:\", variance)\n"
   ]
  },
  {
   "cell_type": "markdown",
   "metadata": {},
   "source": [
    "6. Write a Python script to generate random numbers from a Gaussian (normal) distribution and compute the mean, variance, and standard deviation of the samples"
   ]
  },
  {
   "cell_type": "code",
   "execution_count": 24,
   "metadata": {},
   "outputs": [
    {
     "name": "stdout",
     "output_type": "stream",
     "text": [
      "Generated Normal Distribution Samples\n",
      "Mean: 49.51252841516836\n",
      "Variance: 100.56965941922323\n",
      "Standard Deviation: 10.028442522107968\n"
     ]
    }
   ],
   "source": [
    "import numpy as np\n",
    "\n",
    "def generate_gaussian_samples(mean, std_dev, sample_size=1000):\n",
    "    \"\"\"\n",
    "    Generates random numbers from a Gaussian (Normal) distribution and calculates the mean, variance, and standard deviation.\n",
    "\n",
    "    :param mean: The mean (μ) of the normal distribution.\n",
    "    :param std_dev: The standard deviation (σ) of the normal distribution.\n",
    "    :param sample_size: Number of samples to generate (default=1000).\n",
    "\n",
    "    :return: (samples, calculated_mean, calculated_variance, calculated_std_dev)\n",
    "    \"\"\"\n",
    "    samples = np.random.normal(mean, std_dev, sample_size)\n",
    "    \n",
    "    calculated_mean = np.mean(samples)\n",
    "    calculated_variance = np.var(samples)\n",
    "    calculated_std_dev = np.std(samples)\n",
    "\n",
    "    return samples, calculated_mean, calculated_variance, calculated_std_dev\n",
    "\n",
    "# Example Usage:\n",
    "mean = 50  # Mean of the normal distribution\n",
    "std_dev = 10  # Standard deviation\n",
    "sample_size = 1000  # Number of samples\n",
    "\n",
    "samples, calculated_mean, calculated_variance, calculated_std_dev = generate_gaussian_samples(mean, std_dev, sample_size)\n",
    "\n",
    "print(\"Generated Normal Distribution Samples\")\n",
    "print(\"Mean:\", calculated_mean)\n",
    "print(\"Variance:\", calculated_variance)\n",
    "print(\"Standard Deviation:\", calculated_std_dev)\n"
   ]
  },
  {
   "cell_type": "markdown",
   "metadata": {},
   "source": [
    "7.  Use seaborn library to load `tips` dataset. Find the following from the dataset for the columns `total_bill` and `tip`:"
   ]
  },
  {
   "cell_type": "markdown",
   "metadata": {},
   "source": [
    "(i) Write a Python function that calculates their skewness.\n",
    "\n"
   ]
  },
  {
   "cell_type": "code",
   "execution_count": 25,
   "metadata": {},
   "outputs": [
    {
     "name": "stdout",
     "output_type": "stream",
     "text": [
      "Skewness of total_bill: 1.1262346334818638\n",
      "Skewness of tip: 1.4564266884221506\n"
     ]
    }
   ],
   "source": [
    "import seaborn as sns\n",
    "import scipy.stats as stats\n",
    "\n",
    "# Load dataset\n",
    "tips = sns.load_dataset(\"tips\")\n",
    "\n",
    "def calculate_skewness(column):\n",
    "    \"\"\"\n",
    "    Calculates the skewness of a given column.\n",
    "    \n",
    "    :param column: Pandas Series representing a numeric column.\n",
    "    :return: Skewness value.\n",
    "    \"\"\"\n",
    "    return stats.skew(column)\n",
    "\n",
    "# Compute skewness for total_bill and tip columns\n",
    "print(\"Skewness of total_bill:\", calculate_skewness(tips[\"total_bill\"]))\n",
    "print(\"Skewness of tip:\", calculate_skewness(tips[\"tip\"]))\n"
   ]
  },
  {
   "cell_type": "markdown",
   "metadata": {},
   "source": [
    "(ii) Create a program that determines whether the columns exhibit positive skewness, negative skewness, or are approximately symmetric."
   ]
  },
  {
   "cell_type": "code",
   "execution_count": 26,
   "metadata": {},
   "outputs": [
    {
     "name": "stdout",
     "output_type": "stream",
     "text": [
      "Skewness Type of total_bill: Positive Skewness\n",
      "Skewness Type of tip: Positive Skewness\n"
     ]
    }
   ],
   "source": [
    "def determine_skewness(column):\n",
    "    \"\"\"\n",
    "    Determines whether the data in the column exhibits positive, negative, or no skewness.\n",
    "    \n",
    "    :param column: Pandas Series representing a numeric column.\n",
    "    :return: A string describing the type of skewness.\n",
    "    \"\"\"\n",
    "    skew_value = stats.skew(column)\n",
    "    if skew_value > 0:\n",
    "        return \"Positive Skewness\"\n",
    "    elif skew_value < 0:\n",
    "        return \"Negative Skewness\"\n",
    "    else:\n",
    "        return \"Approximately Symmetric\"\n",
    "\n",
    "# Check skewness for total_bill and tip\n",
    "print(\"Skewness Type of total_bill:\", determine_skewness(tips[\"total_bill\"]))\n",
    "print(\"Skewness Type of tip:\", determine_skewness(tips[\"tip\"]))\n"
   ]
  },
  {
   "cell_type": "markdown",
   "metadata": {},
   "source": [
    "(iii) Write a function that calculates the covariance between two columns."
   ]
  },
  {
   "cell_type": "code",
   "execution_count": 27,
   "metadata": {},
   "outputs": [
    {
     "name": "stdout",
     "output_type": "stream",
     "text": [
      "Covariance between total_bill and tip: 8.289388917629669\n"
     ]
    }
   ],
   "source": [
    "import numpy as np\n",
    "\n",
    "def calculate_covariance(column1, column2):\n",
    "    \"\"\"\n",
    "    Computes the covariance between two numeric columns.\n",
    "    \n",
    "    :param column1: Pandas Series representing the first numeric column.\n",
    "    :param column2: Pandas Series representing the second numeric column.\n",
    "    :return: Covariance value.\n",
    "    \"\"\"\n",
    "    return np.cov(column1, column2, bias=True)[0][1]\n",
    "\n",
    "# Compute covariance between total_bill and tip\n",
    "print(\"Covariance between total_bill and tip:\", calculate_covariance(tips[\"total_bill\"], tips[\"tip\"]))\n"
   ]
  },
  {
   "cell_type": "markdown",
   "metadata": {},
   "source": [
    "(iv) Implement a Python program that calculates the Pearson correlation coefficient between two columns."
   ]
  },
  {
   "cell_type": "code",
   "execution_count": 28,
   "metadata": {},
   "outputs": [
    {
     "name": "stdout",
     "output_type": "stream",
     "text": [
      "Pearson Correlation between total_bill and tip: 0.6757341092113645\n"
     ]
    }
   ],
   "source": [
    "def calculate_pearson_correlation(column1, column2):\n",
    "    \"\"\"\n",
    "    Computes the Pearson correlation coefficient between two numeric columns.\n",
    "    \n",
    "    :param column1: Pandas Series representing the first numeric column.\n",
    "    :param column2: Pandas Series representing the second numeric column.\n",
    "    :return: Pearson correlation coefficient.\n",
    "    \"\"\"\n",
    "    return np.corrcoef(column1, column2)[0][1]\n",
    "\n",
    "# Compute Pearson correlation between total_bill and tip\n",
    "print(\"Pearson Correlation between total_bill and tip:\", calculate_pearson_correlation(tips[\"total_bill\"], tips[\"tip\"]))\n"
   ]
  },
  {
   "cell_type": "markdown",
   "metadata": {},
   "source": [
    "(v) Write a script to visualize the correlation between two specific columns in a Pandas DataFrame using scatter plots."
   ]
  },
  {
   "cell_type": "code",
   "execution_count": 29,
   "metadata": {},
   "outputs": [
    {
     "data": {
      "image/png": "[encoded data removed]",
      "text/plain": [
       "<Figure size 800x500 with 1 Axes>"
      ]
     },
     "metadata": {},
     "output_type": "display_data"
    }
   ],
   "source": [
    "import matplotlib.pyplot as plt\n",
    "\n",
    "def visualize_correlation(column1, column2, xlabel, ylabel):\n",
    "    \"\"\"\n",
    "    Creates a scatter plot to visualize the correlation between two columns.\n",
    "    \n",
    "    :param column1: Pandas Series representing the first numeric column.\n",
    "    :param column2: Pandas Series representing the second numeric column.\n",
    "    :param xlabel: Label for the x-axis.\n",
    "    :param ylabel: Label for the y-axis.\n",
    "    \"\"\"\n",
    "    plt.figure(figsize=(8, 5))\n",
    "    sns.scatterplot(x=column1, y=column2)\n",
    "    plt.xlabel(xlabel)\n",
    "    plt.ylabel(ylabel)\n",
    "    plt.title(f\"Scatter Plot of {xlabel} vs {ylabel}\")\n",
    "    plt.show()\n",
    "\n",
    "# Visualize correlation between total_bill and tip\n",
    "visualize_correlation(tips[\"total_bill\"], tips[\"tip\"], \"Total Bill\", \"Tip\")\n"
   ]
  },
  {
   "cell_type": "markdown",
   "metadata": {},
   "source": [
    "8.  Write a Python function to calculate the probability density function (PDF) of a continuous random variable for a given normal distribution."
   ]
  },
  {
   "cell_type": "code",
   "execution_count": 30,
   "metadata": {},
   "outputs": [
    {
     "name": "stdout",
     "output_type": "stream",
     "text": [
      "PDF at x=50 for N(50, 10^2): 0.03989422804014327\n"
     ]
    }
   ],
   "source": [
    "import numpy as np\n",
    "import scipy.stats as stats\n",
    "\n",
    "def normal_pdf(x, mean, std_dev):\n",
    "    \"\"\"\n",
    "    Computes the Probability Density Function (PDF) of a normal distribution.\n",
    "\n",
    "    :param x: The point at which to evaluate the PDF.\n",
    "    :param mean: The mean (μ) of the normal distribution.\n",
    "    :param std_dev: The standard deviation (σ) of the normal distribution.\n",
    "    :return: The probability density function value at x.\n",
    "    \"\"\"\n",
    "    return stats.norm.pdf(x, mean, std_dev)\n",
    "\n",
    "# Example usage\n",
    "mean = 50  # Mean of the normal distribution\n",
    "std_dev = 10  # Standard deviation\n",
    "\n",
    "x_value = 50  # Point at which PDF is evaluated\n",
    "pdf_value = normal_pdf(x_value, mean, std_dev)\n",
    "\n",
    "print(f\"PDF at x={x_value} for N({mean}, {std_dev}^2):\", pdf_value)\n"
   ]
  },
  {
   "cell_type": "markdown",
   "metadata": {},
   "source": [
    "9.  Create a program to calculate the cumulative distribution function (CDF) of exponential distribution.\n"
   ]
  },
  {
   "cell_type": "code",
   "execution_count": 31,
   "metadata": {},
   "outputs": [
    {
     "name": "stdout",
     "output_type": "stream",
     "text": [
      "CDF at x=2 for Exp(λ=0.5): 0.6321205588285577\n"
     ]
    }
   ],
   "source": [
    "import numpy as np\n",
    "import scipy.stats as stats\n",
    "\n",
    "def exponential_cdf(x, rate):\n",
    "    \"\"\"\n",
    "    Computes the Cumulative Distribution Function (CDF) of an Exponential Distribution.\n",
    "\n",
    "    :param x: The point at which to evaluate the CDF.\n",
    "    :param rate: The rate parameter (λ) of the exponential distribution.\n",
    "    :return: The cumulative probability at x.\n",
    "    \"\"\"\n",
    "    return stats.expon.cdf(x, scale=1/rate)\n",
    "\n",
    "# Example usage\n",
    "rate = 0.5  # Rate parameter (λ)\n",
    "x_value = 2  # Point at which CDF is evaluated\n",
    "\n",
    "cdf_value = exponential_cdf(x_value, rate)\n",
    "\n",
    "print(f\"CDF at x={x_value} for Exp(λ={rate}):\", cdf_value)\n"
   ]
  },
  {
   "cell_type": "markdown",
   "metadata": {},
   "source": [
    "10.  Write a Python function to calculate the probability mass function (PMF) of Poisson distribution."
   ]
  },
  {
   "cell_type": "code",
   "execution_count": 32,
   "metadata": {},
   "outputs": [
    {
     "name": "stdout",
     "output_type": "stream",
     "text": [
      "PMF at k=3 for Poisson(λ=4): 0.19536681481316454\n"
     ]
    }
   ],
   "source": [
    "import scipy.stats as stats\n",
    "\n",
    "def poisson_pmf(k, lambda_):\n",
    "    \"\"\"\n",
    "    Computes the Probability Mass Function (PMF) of a Poisson distribution.\n",
    "\n",
    "    :param k: The number of occurrences (non-negative integer).\n",
    "    :param lambda_: The average rate (λ) of occurrences.\n",
    "    :return: The probability of observing k occurrences.\n",
    "    \"\"\"\n",
    "    return stats.poisson.pmf(k, lambda_)\n",
    "\n",
    "# Example usage\n",
    "lambda_ = 4  # Mean number of occurrences\n",
    "k_value = 3  # Specific number of occurrences to evaluate\n",
    "\n",
    "pmf_value = poisson_pmf(k_value, lambda_)\n",
    "\n",
    "print(f\"PMF at k={k_value} for Poisson(λ={lambda_}):\", pmf_value)\n"
   ]
  },
  {
   "cell_type": "markdown",
   "metadata": {},
   "source": [
    "11.  A company wants to test if a new website layout leads to a higher conversion rate (percentage of visitors who make a purchase). They collect data from the old and new layouts to compare.\n",
    "To generate the data use the following command:\n",
    " ```python\n",
    " import numpy as np\n",
    " # 50 purchases out of 1000 visitors\n",
    " old_layout = np.array([1] * 50 + [0] * 950)\n",
    " # 70 purchases out of 1000 visitors  \n",
    "new_layout = np.array([1] * 70 + [0] * 930)\n",
    " ```\n",
    " Apply z-test to find which layout is successful."
   ]
  },
  {
   "cell_type": "code",
   "execution_count": 33,
   "metadata": {},
   "outputs": [
    {
     "name": "stdout",
     "output_type": "stream",
     "text": [
      "Old Layout Conversion Rate: 0.0500\n",
      "New Layout Conversion Rate: 0.0700\n",
      "Z-Score: 1.8831\n",
      "P-Value: 0.0298\n",
      "The new layout has a significantly higher conversion rate. ✅\n"
     ]
    }
   ],
   "source": [
    "import numpy as np\n",
    "import scipy.stats as stats\n",
    "\n",
    "# Generate data\n",
    "old_layout = np.array([1] * 50 + [0] * 950)  # 50 purchases out of 1000 visitors\n",
    "new_layout = np.array([1] * 70 + [0] * 930)  # 70 purchases out of 1000 visitors\n",
    "\n",
    "# Compute conversion rates\n",
    "p_old = np.mean(old_layout)  # Conversion rate for old layout\n",
    "p_new = np.mean(new_layout)  # Conversion rate for new layout\n",
    "\n",
    "# Sample sizes\n",
    "n_old = len(old_layout)\n",
    "n_new = len(new_layout)\n",
    "\n",
    "# Compute pooled proportion\n",
    "p_pool = (p_old * n_old + p_new * n_new) / (n_old + n_new)\n",
    "\n",
    "# Compute standard error\n",
    "se = np.sqrt(p_pool * (1 - p_pool) * (1/n_old + 1/n_new))\n",
    "\n",
    "# Compute Z-score\n",
    "z_score = (p_new - p_old) / se\n",
    "\n",
    "# Compute p-value (one-tailed test, assuming we test if new > old)\n",
    "p_value = 1 - stats.norm.cdf(z_score)\n",
    "\n",
    "# Print results\n",
    "print(f\"Old Layout Conversion Rate: {p_old:.4f}\")\n",
    "print(f\"New Layout Conversion Rate: {p_new:.4f}\")\n",
    "print(f\"Z-Score: {z_score:.4f}\")\n",
    "print(f\"P-Value: {p_value:.4f}\")\n",
    "\n",
    "# Conclusion\n",
    "alpha = 0.05  # Significance level\n",
    "if p_value < alpha:\n",
    "    print(\"The new layout has a significantly higher conversion rate. ✅\")\n",
    "else:\n",
    "    print(\"There is no significant difference in conversion rates. ❌\")\n"
   ]
  },
  {
   "cell_type": "markdown",
   "metadata": {},
   "source": [
    "12. A tutoring service claims that its program improves students' exam scores. A sample of students who participated in the program was taken, and their scores before and after the program were recorded.\n",
    "\n",
    " Use the below code to generate samples of respective arrays of marks:\n",
    " ```python\n",
    " before_program = np.array([75, 80, 85, 70, 90, 78, 92, 88, 82, 87])\n",
    " after_program = np.array([80, 85, 90, 80, 92, 80, 95, 90, 85, 88])\n",
    " ```\n",
    " Use z-test to find if the claims made by tutor are true or false."
   ]
  },
  {
   "cell_type": "code",
   "execution_count": 34,
   "metadata": {},
   "outputs": [
    {
     "name": "stdout",
     "output_type": "stream",
     "text": [
      "Mean Difference: 3.80\n",
      "Standard Deviation of Differences: 2.62\n",
      "Z-Score: 4.59\n",
      "P-Value: 0.0000\n",
      "The tutoring program significantly improves student scores. ✅\n"
     ]
    }
   ],
   "source": [
    "import numpy as np\n",
    "import scipy.stats as stats\n",
    "\n",
    "# Generate sample scores\n",
    "before_program = np.array([75, 80, 85, 70, 90, 78, 92, 88, 82, 87])\n",
    "after_program = np.array([80, 85, 90, 80, 92, 80, 95, 90, 85, 88])\n",
    "\n",
    "# Compute differences (After - Before)\n",
    "score_diff = after_program - before_program\n",
    "\n",
    "# Mean and standard deviation of differences\n",
    "mean_diff = np.mean(score_diff)\n",
    "std_diff = np.std(score_diff, ddof=1)  # Sample standard deviation\n",
    "n = len(score_diff)  # Sample size\n",
    "\n",
    "# Compute standard error\n",
    "se = std_diff / np.sqrt(n)\n",
    "\n",
    "# Compute Z-score\n",
    "z_score = mean_diff / se\n",
    "\n",
    "# Compute p-value (one-tailed test: checking if scores improved)\n",
    "p_value = 1 - stats.norm.cdf(z_score)\n",
    "\n",
    "# Print results\n",
    "print(f\"Mean Difference: {mean_diff:.2f}\")\n",
    "print(f\"Standard Deviation of Differences: {std_diff:.2f}\")\n",
    "print(f\"Z-Score: {z_score:.2f}\")\n",
    "print(f\"P-Value: {p_value:.4f}\")\n",
    "\n",
    "# Conclusion\n",
    "alpha = 0.05  # Significance level\n",
    "if p_value < alpha:\n",
    "    print(\"The tutoring program significantly improves student scores. ✅\")\n",
    "else:\n",
    "    print(\"No significant improvement in student scores. ❌\")\n"
   ]
  },
  {
   "cell_type": "markdown",
   "metadata": {},
   "source": [
    "13. A pharmaceutical company wants to determine if a new drug is effective in reducing blood pressure. They conduct a study and record blood pressure measurements before and after administering the drug.\n",
    "\n",
    " Use the below code to generate samples of respective arrays of blood pressure:\n",
    " ```python\n",
    " before_drug = np.array([145, 150, 140, 135, 155, 160, 152, 148, 130, 138])\n",
    " after_drug = np.array([130, 140, 132, 128, 145, 148, 138, 136, 125, 130])\n",
    " ```\n",
    " Implement z-test to find if the drug really works or not."
   ]
  },
  {
   "cell_type": "code",
   "execution_count": 35,
   "metadata": {},
   "outputs": [
    {
     "name": "stdout",
     "output_type": "stream",
     "text": [
      "Mean Difference: 10.10\n",
      "Standard Deviation of Differences: 3.18\n",
      "Z-Score: 10.05\n",
      "P-Value: 0.0000\n",
      "The drug significantly reduces blood pressure. ✅\n"
     ]
    }
   ],
   "source": [
    "import numpy as np\n",
    "import scipy.stats as stats\n",
    "\n",
    "# Generate blood pressure samples\n",
    "before_drug = np.array([145, 150, 140, 135, 155, 160, 152, 148, 130, 138])\n",
    "after_drug = np.array([130, 140, 132, 128, 145, 148, 138, 136, 125, 130])\n",
    "\n",
    "# Compute differences (Before - After, since we expect a decrease)\n",
    "bp_diff = before_drug - after_drug\n",
    "\n",
    "# Mean and standard deviation of differences\n",
    "mean_diff = np.mean(bp_diff)\n",
    "std_diff = np.std(bp_diff, ddof=1)  # Sample standard deviation\n",
    "n = len(bp_diff)  # Sample size\n",
    "\n",
    "# Compute standard error\n",
    "se = std_diff / np.sqrt(n)\n",
    "\n",
    "# Compute Z-score\n",
    "z_score = mean_diff / se\n",
    "\n",
    "# Compute p-value (one-tailed test: checking if blood pressure decreases)\n",
    "p_value = 1 - stats.norm.cdf(z_score)\n",
    "\n",
    "# Print results\n",
    "print(f\"Mean Difference: {mean_diff:.2f}\")\n",
    "print(f\"Standard Deviation of Differences: {std_diff:.2f}\")\n",
    "print(f\"Z-Score: {z_score:.2f}\")\n",
    "print(f\"P-Value: {p_value:.4f}\")\n",
    "\n",
    "# Conclusion\n",
    "alpha = 0.05  # Significance level\n",
    "if p_value < alpha:\n",
    "    print(\"The drug significantly reduces blood pressure. ✅\")\n",
    "else:\n",
    "    print(\"No significant reduction in blood pressure. ❌\")\n"
   ]
  },
  {
   "cell_type": "markdown",
   "metadata": {},
   "source": [
    "14.  A customer service department claims that their average response time is less than 5 minutes. A sample of recent customer interactions was taken, and the response times were recorded.\n",
    "\n",
    " Implement the below code to generate the array of response time:\n",
    " ```python\n",
    " response_times = np.array([4.3, 3.8, 5.1, 4.9, 4.7, 4.2, 5.2, 4.5, 4.6, 4.4])\n",
    " ```\n",
    " Implement z-test to find the claims made by customer service department are tru or false."
   ]
  },
  {
   "cell_type": "code",
   "execution_count": 36,
   "metadata": {},
   "outputs": [
    {
     "name": "stdout",
     "output_type": "stream",
     "text": [
      "Sample Mean Response Time: 4.57\n",
      "Sample Standard Deviation: 0.43\n",
      "Z-Score: -3.18\n",
      "P-Value: 0.0007\n",
      "The customer service response time is significantly less than 5 minutes. ✅\n"
     ]
    }
   ],
   "source": [
    "import numpy as np\n",
    "import scipy.stats as stats\n",
    "\n",
    "# Generate response time samples\n",
    "response_times = np.array([4.3, 3.8, 5.1, 4.9, 4.7, 4.2, 5.2, 4.5, 4.6, 4.4])\n",
    "\n",
    "# Given claim: Mean response time is < 5 minutes\n",
    "mu_0 = 5  # Claimed mean\n",
    "\n",
    "# Compute sample mean and standard deviation\n",
    "sample_mean = np.mean(response_times)\n",
    "sample_std = np.std(response_times, ddof=1)  # Sample standard deviation\n",
    "n = len(response_times)  # Sample size\n",
    "\n",
    "# Compute standard error\n",
    "se = sample_std / np.sqrt(n)\n",
    "\n",
    "# Compute Z-score\n",
    "z_score = (sample_mean - mu_0) / se\n",
    "\n",
    "# Compute p-value (one-tailed test: checking if mean response time < 5)\n",
    "p_value = stats.norm.cdf(z_score)\n",
    "\n",
    "# Print results\n",
    "print(f\"Sample Mean Response Time: {sample_mean:.2f}\")\n",
    "print(f\"Sample Standard Deviation: {sample_std:.2f}\")\n",
    "print(f\"Z-Score: {z_score:.2f}\")\n",
    "print(f\"P-Value: {p_value:.4f}\")\n",
    "\n",
    "# Conclusion\n",
    "alpha = 0.05  # Significance level\n",
    "if p_value < alpha:\n",
    "    print(\"The customer service response time is significantly less than 5 minutes. ✅\")\n",
    "else:\n",
    "    print(\"No significant evidence that the response time is less than 5 minutes. ❌\")\n"
   ]
  },
  {
   "cell_type": "markdown",
   "metadata": {},
   "source": [
    "15. A company is testing two different website layouts to see which one leads to higher click-through rates. Write a Python function to perform an A/B test analysis, including calculating the t-statistic, degrees of freedom, and p-value.\n",
    "\n",
    " Use the following data:\n",
    " ```python\n",
    " layout_a_clicks = [28, 32, 33, 29, 31, 34, 30, 35, 36, 37]\n",
    " layout_b_clicks = [40, 41, 38, 42, 39, 44, 43, 41, 45, 47]"
   ]
  },
  {
   "cell_type": "code",
   "execution_count": 37,
   "metadata": {},
   "outputs": [
    {
     "name": "stdout",
     "output_type": "stream",
     "text": [
      "Mean (Layout A): 32.50, Mean (Layout B): 42.00\n",
      "Standard Deviation (Layout A): 3.03, Standard Deviation (Layout B): 2.79\n",
      "T-Statistic: -7.30\n",
      "Degrees of Freedom: 17.88\n",
      "P-Value: 0.0000\n",
      "Significant difference between the two layouts. ✅\n"
     ]
    }
   ],
   "source": [
    "import numpy as np\n",
    "import scipy.stats as stats\n",
    "\n",
    "def ab_test_ttest(sample_a, sample_b):\n",
    "    # Compute sample means and standard deviations\n",
    "    mean_a, mean_b = np.mean(sample_a), np.mean(sample_b)\n",
    "    std_a, std_b = np.std(sample_a, ddof=1), np.std(sample_b, ddof=1)\n",
    "    n_a, n_b = len(sample_a), len(sample_b)\n",
    "\n",
    "    # Compute standard error\n",
    "    se = np.sqrt((std_a**2 / n_a) + (std_b**2 / n_b))\n",
    "\n",
    "    # Compute t-statistic\n",
    "    t_stat = (mean_a - mean_b) / se\n",
    "\n",
    "    # Compute degrees of freedom (Welch’s t-test)\n",
    "    df = ((std_a**2 / n_a) + (std_b**2 / n_b))**2 / (\n",
    "        ((std_a**2 / n_a)**2 / (n_a - 1)) + ((std_b**2 / n_b)**2 / (n_b - 1))\n",
    "    )\n",
    "\n",
    "    # Compute p-value (two-tailed test: checking if means are different)\n",
    "    p_value = 2 * (1 - stats.t.cdf(abs(t_stat), df))\n",
    "\n",
    "    # Print results\n",
    "    print(f\"Mean (Layout A): {mean_a:.2f}, Mean (Layout B): {mean_b:.2f}\")\n",
    "    print(f\"Standard Deviation (Layout A): {std_a:.2f}, Standard Deviation (Layout B): {std_b:.2f}\")\n",
    "    print(f\"T-Statistic: {t_stat:.2f}\")\n",
    "    print(f\"Degrees of Freedom: {df:.2f}\")\n",
    "    print(f\"P-Value: {p_value:.4f}\")\n",
    "\n",
    "    # Conclusion\n",
    "    alpha = 0.05  # Significance level\n",
    "    if p_value < alpha:\n",
    "        print(\"Significant difference between the two layouts. ✅\")\n",
    "    else:\n",
    "        print(\"No significant difference between the two layouts. ❌\")\n",
    "\n",
    "# Given data\n",
    "layout_a_clicks = [28, 32, 33, 29, 31, 34, 30, 35, 36, 37]\n",
    "layout_b_clicks = [40, 41, 38, 42, 39, 44, 43, 41, 45, 47]\n",
    "\n",
    "# Run A/B test\n",
    "ab_test_ttest(layout_a_clicks, layout_b_clicks)\n"
   ]
  },
  {
   "cell_type": "markdown",
   "metadata": {},
   "source": [
    "16. A pharmaceutical company wants to determine if a new drug is more effective than an existing drug in reducing cholesterol levels. Create a program to analyze the clinical trial data and calculate the t- statistic and p-value for the treatment effect.\n",
    "\n",
    "Use the following data of cholestrol level:\n",
    " ```python\n",
    " existing_drug_levels = [180, 182, 175, 185, 178, 176, 172, 184, 179, 183]\n",
    " new_drug_levels = [170, 172, 165, 168, 175, 173, 170, 178, 172, 176]\n",
    " ```"
   ]
  },
  {
   "cell_type": "code",
   "execution_count": 38,
   "metadata": {},
   "outputs": [
    {
     "name": "stdout",
     "output_type": "stream",
     "text": [
      "Mean Cholesterol (Existing Drug): 179.40\n",
      "Mean Cholesterol (New Drug): 171.90\n",
      "Standard Deviation (Existing Drug): 4.22\n",
      "Standard Deviation (New Drug): 3.87\n",
      "T-Statistic: 4.14\n",
      "Degrees of Freedom: 17.87\n",
      "P-Value: 0.9997\n",
      "No significant evidence that the new drug is more effective. ❌\n"
     ]
    }
   ],
   "source": [
    "import numpy as np\n",
    "import scipy.stats as stats\n",
    "\n",
    "def compare_drugs_ttest(existing_drug, new_drug):\n",
    "    # Compute sample means and standard deviations\n",
    "    mean_existing, mean_new = np.mean(existing_drug), np.mean(new_drug)\n",
    "    std_existing, std_new = np.std(existing_drug, ddof=1), np.std(new_drug, ddof=1)\n",
    "    n_existing, n_new = len(existing_drug), len(new_drug)\n",
    "\n",
    "    # Compute standard error\n",
    "    se = np.sqrt((std_existing**2 / n_existing) + (std_new**2 / n_new))\n",
    "\n",
    "    # Compute t-statistic\n",
    "    t_stat = (mean_existing - mean_new) / se\n",
    "\n",
    "    # Compute degrees of freedom (Welch’s t-test)\n",
    "    df = ((std_existing**2 / n_existing) + (std_new**2 / n_new))**2 / (\n",
    "        ((std_existing**2 / n_existing)**2 / (n_existing - 1)) + ((std_new**2 / n_new)**2 / (n_new - 1))\n",
    "    )\n",
    "\n",
    "    # Compute p-value (one-tailed test: checking if the new drug lowers cholesterol more)\n",
    "    p_value = stats.t.cdf(t_stat, df)\n",
    "\n",
    "    # Print results\n",
    "    print(f\"Mean Cholesterol (Existing Drug): {mean_existing:.2f}\")\n",
    "    print(f\"Mean Cholesterol (New Drug): {mean_new:.2f}\")\n",
    "    print(f\"Standard Deviation (Existing Drug): {std_existing:.2f}\")\n",
    "    print(f\"Standard Deviation (New Drug): {std_new:.2f}\")\n",
    "    print(f\"T-Statistic: {t_stat:.2f}\")\n",
    "    print(f\"Degrees of Freedom: {df:.2f}\")\n",
    "    print(f\"P-Value: {p_value:.4f}\")\n",
    "\n",
    "    # Conclusion\n",
    "    alpha = 0.05  # Significance level\n",
    "    if p_value < alpha:\n",
    "        print(\"The new drug significantly reduces cholesterol more than the existing drug. ✅\")\n",
    "    else:\n",
    "        print(\"No significant evidence that the new drug is more effective. ❌\")\n",
    "\n",
    "# Given data\n",
    "existing_drug_levels = [180, 182, 175, 185, 178, 176, 172, 184, 179, 183]\n",
    "new_drug_levels = [170, 172, 165, 168, 175, 173, 170, 178, 172, 176]\n",
    "\n",
    "# Run T-test\n",
    "compare_drugs_ttest(existing_drug_levels, new_drug_levels)\n"
   ]
  },
  {
   "cell_type": "markdown",
   "metadata": {},
   "source": [
    "17. A school district introduces an educational intervention program to improve math scores. Write a Python function to analyze pre- and post-intervention test scores, calculating the t-statistic and p-value to \n",
    "determine if the intervention had a significant impact.\n",
    "\n",
    " Use the following data of test score:\n",
    " ```python\n",
    " pre_intervention_scores = [80, 85, 90, 75, 88, 82, 92, 78, 85, 87]\n",
    " post_intervention_scores = [90, 92, 88, 92, 95, 91, 96, 93, 89, 93]\n",
    " ```"
   ]
  },
  {
   "cell_type": "code",
   "execution_count": 39,
   "metadata": {},
   "outputs": [
    {
     "name": "stdout",
     "output_type": "stream",
     "text": [
      "Mean Score (Before Intervention): 84.20\n",
      "Mean Score (After Intervention): 91.90\n",
      "Standard Deviation (Before): 5.41\n",
      "Standard Deviation (After): 2.51\n",
      "T-Statistic: -4.43\n",
      "P-Value: 0.0017\n",
      "The educational intervention significantly improved math scores. ✅\n"
     ]
    }
   ],
   "source": [
    "import numpy as np\n",
    "import scipy.stats as stats\n",
    "\n",
    "def analyze_intervention(pre_scores, post_scores):\n",
    "    # Compute sample means and standard deviations\n",
    "    mean_pre, mean_post = np.mean(pre_scores), np.mean(post_scores)\n",
    "    std_pre, std_post = np.std(pre_scores, ddof=1), np.std(post_scores, ddof=1)\n",
    "\n",
    "    # Compute t-statistic and p-value for paired t-test\n",
    "    t_stat, p_value = stats.ttest_rel(pre_scores, post_scores)\n",
    "\n",
    "    # Print results\n",
    "    print(f\"Mean Score (Before Intervention): {mean_pre:.2f}\")\n",
    "    print(f\"Mean Score (After Intervention): {mean_post:.2f}\")\n",
    "    print(f\"Standard Deviation (Before): {std_pre:.2f}\")\n",
    "    print(f\"Standard Deviation (After): {std_post:.2f}\")\n",
    "    print(f\"T-Statistic: {t_stat:.2f}\")\n",
    "    print(f\"P-Value: {p_value:.4f}\")\n",
    "\n",
    "    # Conclusion\n",
    "    alpha = 0.05  # Significance level\n",
    "    if p_value < alpha:\n",
    "        print(\"The educational intervention significantly improved math scores. ✅\")\n",
    "    else:\n",
    "        print(\"No significant evidence that the intervention improved math scores. ❌\")\n",
    "\n",
    "# Given data\n",
    "pre_intervention_scores = [80, 85, 90, 75, 88, 82, 92, 78, 85, 87]\n",
    "post_intervention_scores = [90, 92, 88, 92, 95, 91, 96, 93, 89, 93]\n",
    "\n",
    "# Run paired t-test\n",
    "analyze_intervention(pre_intervention_scores, post_intervention_scores)\n"
   ]
  },
  {
   "cell_type": "markdown",
   "metadata": {},
   "source": [
    "18.  An HR department wants to investigate if there's a gender-based salary gap within the company. Develop a program to analyze salary data, calculate the t-statistic, and determine if there's a statistically significant difference between the average salaries of male and female employees.\n",
    "\n",
    " Use the below code to generate synthetic data:\n",
    " ```python\n",
    " # Generate synthetic salary data for male and female employees\n",
    " np.random.seed(0)  # For reproducibility\n",
    " male_salaries = np.random.normal(loc=50000, scale=10000, size=20)\n",
    " female_salaries = np.random.normal(loc=55000, scale=9000, size=20)\n",
    " ```"
   ]
  },
  {
   "cell_type": "code",
   "execution_count": 40,
   "metadata": {},
   "outputs": [
    {
     "name": "stdout",
     "output_type": "stream",
     "text": [
      "Mean Salary (Male): $55693.35\n",
      "Mean Salary (Female): $55501.75\n",
      "Standard Deviation (Male): $8722.69\n",
      "Standard Deviation (Female): $10968.10\n",
      "T-Statistic: 0.06\n",
      "Degrees of Freedom: 36.17\n",
      "P-Value: 0.9516\n",
      "No significant gender-based salary gap found. ❌\n"
     ]
    }
   ],
   "source": [
    "import numpy as np\n",
    "import scipy.stats as stats\n",
    "\n",
    "# Generate synthetic salary data for male and female employees\n",
    "np.random.seed(0)  # For reproducibility\n",
    "male_salaries = np.random.normal(loc=50000, scale=10000, size=20)\n",
    "female_salaries = np.random.normal(loc=55000, scale=9000, size=20)\n",
    "\n",
    "def analyze_salary_gap(male_salaries, female_salaries):\n",
    "    # Compute sample means and standard deviations\n",
    "    mean_male, mean_female = np.mean(male_salaries), np.mean(female_salaries)\n",
    "    std_male, std_female = np.std(male_salaries, ddof=1), np.std(female_salaries, ddof=1)\n",
    "    n_male, n_female = len(male_salaries), len(female_salaries)\n",
    "\n",
    "    # Compute standard error\n",
    "    se = np.sqrt((std_male**2 / n_male) + (std_female**2 / n_female))\n",
    "\n",
    "    # Compute t-statistic\n",
    "    t_stat = (mean_male - mean_female) / se\n",
    "\n",
    "    # Compute degrees of freedom (Welch’s t-test)\n",
    "    df = ((std_male**2 / n_male) + (std_female**2 / n_female))**2 / (\n",
    "        ((std_male**2 / n_male)**2 / (n_male - 1)) + ((std_female**2 / n_female)**2 / (n_female - 1))\n",
    "    )\n",
    "\n",
    "    # Compute p-value (two-tailed test)\n",
    "    p_value = stats.t.sf(abs(t_stat), df) * 2\n",
    "\n",
    "    # Print results\n",
    "    print(f\"Mean Salary (Male): ${mean_male:.2f}\")\n",
    "    print(f\"Mean Salary (Female): ${mean_female:.2f}\")\n",
    "    print(f\"Standard Deviation (Male): ${std_male:.2f}\")\n",
    "    print(f\"Standard Deviation (Female): ${std_female:.2f}\")\n",
    "    print(f\"T-Statistic: {t_stat:.2f}\")\n",
    "    print(f\"Degrees of Freedom: {df:.2f}\")\n",
    "    print(f\"P-Value: {p_value:.4f}\")\n",
    "\n",
    "    # Conclusion\n",
    "    alpha = 0.05  # Significance level\n",
    "    if p_value < alpha:\n",
    "        print(\"There is a statistically significant gender-based salary gap. ✅\")\n",
    "    else:\n",
    "        print(\"No significant gender-based salary gap found. ❌\")\n",
    "\n",
    "# Run T-test\n",
    "analyze_salary_gap(male_salaries, female_salaries)\n"
   ]
  },
  {
   "cell_type": "markdown",
   "metadata": {},
   "source": [
    "19. A manufacturer produces two different versions of a product and wants to compare their quality scores. Create a Python function to analyze quality assessment data, calculate the t-statistic, and decide whether there's a significant difference in quality between the two versions.\n",
    "\n",
    " Use the following data:\n",
    " ```python\n",
    " version1_scores = [85, 88, 82, 89, 87, 84, 90, 88, 85, 86, 91, 83, 87, 84, 89, 86, 84, 88, 85, 86, 89, 90, 87, 88, 85]\n",
    " version2_scores = [80, 78, 83, 81, 79, 82, 76, 80, 78, 81, 77, 82, 80, 79, 82, 79, 80, 81, 79, 82, 79, 78, 80, 81, 82]\n",
    " ```"
   ]
  },
  {
   "cell_type": "code",
   "execution_count": 41,
   "metadata": {},
   "outputs": [
    {
     "name": "stdout",
     "output_type": "stream",
     "text": [
      "Mean Quality Score (Version 1): 86.64\n",
      "Mean Quality Score (Version 2): 79.96\n",
      "Standard Deviation (Version 1): 2.36\n",
      "Standard Deviation (Version 2): 1.77\n",
      "T-Statistic: 11.33\n",
      "P-Value: 0.0000\n",
      "There is a statistically significant difference in quality scores between the two versions. ✅\n"
     ]
    }
   ],
   "source": [
    "import numpy as np\n",
    "import scipy.stats as stats\n",
    "\n",
    "# Given data\n",
    "version1_scores = [85, 88, 82, 89, 87, 84, 90, 88, 85, 86, 91, 83, 87, 84, 89, 86, 84, 88, 85, 86, 89, 90, 87, 88, 85]\n",
    "version2_scores = [80, 78, 83, 81, 79, 82, 76, 80, 78, 81, 77, 82, 80, 79, 82, 79, 80, 81, 79, 82, 79, 78, 80, 81, 82]\n",
    "\n",
    "def analyze_product_quality(version1, version2):\n",
    "    # Compute sample means and standard deviations\n",
    "    mean_v1, mean_v2 = np.mean(version1), np.mean(version2)\n",
    "    std_v1, std_v2 = np.std(version1, ddof=1), np.std(version2, ddof=1)\n",
    "    n_v1, n_v2 = len(version1), len(version2)\n",
    "\n",
    "    # Compute t-statistic and p-value (Welch’s t-test)\n",
    "    t_stat, p_value = stats.ttest_ind(version1, version2, equal_var=False)\n",
    "\n",
    "    # Print results\n",
    "    print(f\"Mean Quality Score (Version 1): {mean_v1:.2f}\")\n",
    "    print(f\"Mean Quality Score (Version 2): {mean_v2:.2f}\")\n",
    "    print(f\"Standard Deviation (Version 1): {std_v1:.2f}\")\n",
    "    print(f\"Standard Deviation (Version 2): {std_v2:.2f}\")\n",
    "    print(f\"T-Statistic: {t_stat:.2f}\")\n",
    "    print(f\"P-Value: {p_value:.4f}\")\n",
    "\n",
    "    # Decision Rule\n",
    "    alpha = 0.05  # Significance level\n",
    "    if p_value < alpha:\n",
    "        print(\"There is a statistically significant difference in quality scores between the two versions. ✅\")\n",
    "    else:\n",
    "        print(\"No significant difference in quality scores between the two versions. ❌\")\n",
    "\n",
    "# Run T-test\n",
    "analyze_product_quality(version1_scores, version2_scores)\n"
   ]
  },
  {
   "cell_type": "markdown",
   "metadata": {},
   "source": [
    "20.  A restaurant chain collects customer satisfaction scores for two different branches. Write a program to analyze the scores, calculate the t-statistic, and determine if there's a statistically significant difference in customer satisfaction between the branches.\n",
    "\n",
    " Use the below data of scores:\n",
    " ```python\n",
    " branch_a_scores = [4, 5, 3, 4, 5, 4, 5, 3, 4, 4, 5, 4, 4, 3, 4, 5, 5, 4, 3, 4, 5, 4, 3, 5, 4, 4, 5, 3, 4, 5, 4]\n",
    " branch_b_scores = [3, 4, 2, 3, 4, 3, 4, 2, 3, 3, 4, 3, 3, 2, 3, 4, 4, 3, 2, 3, 4, 3, 2, 4, 3, 3, 4, 2, 3, 4, 3]"
   ]
  },
  {
   "cell_type": "code",
   "execution_count": 42,
   "metadata": {},
   "outputs": [
    {
     "name": "stdout",
     "output_type": "stream",
     "text": [
      "Mean Satisfaction Score (Branch A): 4.13\n",
      "Mean Satisfaction Score (Branch B): 3.13\n",
      "Standard Deviation (Branch A): 0.72\n",
      "Standard Deviation (Branch B): 0.72\n",
      "T-Statistic: 5.48\n",
      "P-Value: 0.0000\n",
      "There is a statistically significant difference in customer satisfaction between the two branches. ✅\n"
     ]
    }
   ],
   "source": [
    "import numpy as np\n",
    "import scipy.stats as stats\n",
    "\n",
    "# Given customer satisfaction scores\n",
    "branch_a_scores = [4, 5, 3, 4, 5, 4, 5, 3, 4, 4, 5, 4, 4, 3, 4, 5, 5, 4, 3, 4, 5, 4, 3, 5, 4, 4, 5, 3, 4, 5, 4]\n",
    "branch_b_scores = [3, 4, 2, 3, 4, 3, 4, 2, 3, 3, 4, 3, 3, 2, 3, 4, 4, 3, 2, 3, 4, 3, 2, 4, 3, 3, 4, 2, 3, 4, 3]\n",
    "\n",
    "def analyze_customer_satisfaction(branch_a, branch_b):\n",
    "    # Compute means and standard deviations\n",
    "    mean_a, mean_b = np.mean(branch_a), np.mean(branch_b)\n",
    "    std_a, std_b = np.std(branch_a, ddof=1), np.std(branch_b, ddof=1)\n",
    "    \n",
    "    # Compute t-statistic and p-value (Welch's T-Test)\n",
    "    t_stat, p_value = stats.ttest_ind(branch_a, branch_b, equal_var=False)\n",
    "\n",
    "    # Print results\n",
    "    print(f\"Mean Satisfaction Score (Branch A): {mean_a:.2f}\")\n",
    "    print(f\"Mean Satisfaction Score (Branch B): {mean_b:.2f}\")\n",
    "    print(f\"Standard Deviation (Branch A): {std_a:.2f}\")\n",
    "    print(f\"Standard Deviation (Branch B): {std_b:.2f}\")\n",
    "    print(f\"T-Statistic: {t_stat:.2f}\")\n",
    "    print(f\"P-Value: {p_value:.4f}\")\n",
    "\n",
    "    # Decision Rule\n",
    "    alpha = 0.05  # Significance level\n",
    "    if p_value < alpha:\n",
    "        print(\"There is a statistically significant difference in customer satisfaction between the two branches. ✅\")\n",
    "    else:\n",
    "        print(\"No significant difference in customer satisfaction between the two branches. ❌\")\n",
    "\n",
    "# Run T-test\n",
    "analyze_customer_satisfaction(branch_a_scores, branch_b_scores)\n"
   ]
  },
  {
   "cell_type": "markdown",
   "metadata": {},
   "source": [
    "21. A political analyst wants to determine if there is a significant association between age groups and voter preferences (Candidate A or Candidate B). They collect data from a sample of 500 voters and classify them into different age groups and candidate preferences. Perform a Chi-Square test to determine if there is a significant association between age groups and voter preferences.\n",
    "\n",
    " Use the below code to generate data:\n",
    " ```python\n",
    " np.random.seed(0)\n",
    " age_groups = np.random.choice(['18-30', '31-50', '51+', '51+'], size=30)\n",
    " voter_preferences = np.random.choice(['Candidate A', 'Candidate B'], size=30)"
   ]
  },
  {
   "cell_type": "code",
   "execution_count": 43,
   "metadata": {},
   "outputs": [
    {
     "name": "stdout",
     "output_type": "stream",
     "text": [
      "Contingency Table:\n",
      " col_0  Candidate A  Candidate B\n",
      "row_0                          \n",
      "18-30            4            8\n",
      "31-50            6            5\n",
      "51+              4            3\n",
      "\n",
      "Chi-Square Statistic: 1.44\n",
      "Degrees of Freedom: 2\n",
      "P-Value: 0.4867\n",
      "No significant association between age groups and voter preferences. ❌\n"
     ]
    }
   ],
   "source": [
    "import numpy as np\n",
    "import pandas as pd\n",
    "import scipy.stats as stats\n",
    "\n",
    "# Generate synthetic data\n",
    "np.random.seed(0)\n",
    "age_groups = np.random.choice(['18-30', '31-50', '51+'], size=30)\n",
    "voter_preferences = np.random.choice(['Candidate A', 'Candidate B'], size=30)\n",
    "\n",
    "# Create a contingency table\n",
    "contingency_table = pd.crosstab(age_groups, voter_preferences)\n",
    "print(\"Contingency Table:\\n\", contingency_table)\n",
    "\n",
    "# Perform Chi-Square test\n",
    "chi2_stat, p_value, dof, expected = stats.chi2_contingency(contingency_table)\n",
    "\n",
    "# Print results\n",
    "print(f\"\\nChi-Square Statistic: {chi2_stat:.2f}\")\n",
    "print(f\"Degrees of Freedom: {dof}\")\n",
    "print(f\"P-Value: {p_value:.4f}\")\n",
    "\n",
    "# Decision Rule\n",
    "alpha = 0.05  # Significance level\n",
    "if p_value < alpha:\n",
    "    print(\"There is a significant association between age groups and voter preferences. ✅\")\n",
    "else:\n",
    "    print(\"No significant association between age groups and voter preferences. ❌\")\n"
   ]
  },
  {
   "cell_type": "markdown",
   "metadata": {},
   "source": [
    "22.  22. A company conducted a customer satisfaction survey to determine if there is a significant relationship between product satisfaction levels (Satisfied, Neutral, Dissatisfied) and the region where customers are \n",
    "located (East, West, North, South). The survey data is summarized in a contingency table. Conduct a Chi-Square test to determine if there is a significant relationship between product satisfaction levels and customer regions.\n",
    "\n",
    " Sample data:\n",
    " ```python\n",
    " ```\n",
    " #Sample data: Product satisfaction levels (rows) vs. Customer regions (columns)\n",
    " data = np.array([[50, 30, 40, 20], [30, 40, 30, 50], [20, 30, 40, 30]])"
   ]
  },
  {
   "cell_type": "code",
   "execution_count": 44,
   "metadata": {},
   "outputs": [
    {
     "name": "stdout",
     "output_type": "stream",
     "text": [
      "Contingency Table:\n",
      "               East  West  North  South\n",
      "Satisfied       50    30     40     20\n",
      "Neutral         30    40     30     50\n",
      "Dissatisfied    20    30     40     30\n",
      "\n",
      "Chi-Square Statistic: 27.78\n",
      "Degrees of Freedom: 6\n",
      "P-Value: 0.0001\n",
      "There is a significant relationship between product satisfaction and customer region. ✅\n"
     ]
    }
   ],
   "source": [
    "import numpy as np\n",
    "import scipy.stats as stats\n",
    "import pandas as pd\n",
    "\n",
    "# Sample data: Product satisfaction levels (rows) vs. Customer regions (columns)\n",
    "data = np.array([\n",
    "    [50, 30, 40, 20],  # Satisfied\n",
    "    [30, 40, 30, 50],  # Neutral\n",
    "    [20, 30, 40, 30]   # Dissatisfied\n",
    "])\n",
    "\n",
    "# Define row and column labels\n",
    "satisfaction_labels = [\"Satisfied\", \"Neutral\", \"Dissatisfied\"]\n",
    "region_labels = [\"East\", \"West\", \"North\", \"South\"]\n",
    "\n",
    "# Create a contingency table (DataFrame for better readability)\n",
    "contingency_table = pd.DataFrame(data, index=satisfaction_labels, columns=region_labels)\n",
    "print(\"Contingency Table:\\n\", contingency_table)\n",
    "\n",
    "# Perform Chi-Square test\n",
    "chi2_stat, p_value, dof, expected = stats.chi2_contingency(data)\n",
    "\n",
    "# Print results\n",
    "print(f\"\\nChi-Square Statistic: {chi2_stat:.2f}\")\n",
    "print(f\"Degrees of Freedom: {dof}\")\n",
    "print(f\"P-Value: {p_value:.4f}\")\n",
    "\n",
    "# Decision Rule\n",
    "alpha = 0.05  # Significance level\n",
    "if p_value < alpha:\n",
    "    print(\"There is a significant relationship between product satisfaction and customer region. ✅\")\n",
    "else:\n",
    "    print(\"No significant relationship between product satisfaction and customer region. ❌\")\n"
   ]
  },
  {
   "cell_type": "markdown",
   "metadata": {},
   "source": [
    "23. . A company implemented an employee training program to improve job performance (Effective, Neutral,Ineffective). After the training, they collected data from a sample of employees and classified them based on their job performance before and after the training. Perform a Chi-Square test to determine if there is a significant difference between job performance levels before and after the training.\n",
    "\n",
    " Sample data:\n",
    " ```python\n",
    " data = np.array([[50, 30, 20], [30, 40, 30], [20, 30, 40]])\n",
    " ```\n",
    " Sample data: Job performance levels before (rows) and after (columns) training"
   ]
  },
  {
   "cell_type": "code",
   "execution_count": 45,
   "metadata": {},
   "outputs": [
    {
     "name": "stdout",
     "output_type": "stream",
     "text": [
      "Contingency Table:\n",
      "                     Effective After  Neutral After  Ineffective After\n",
      "Effective Before                 50             30                 20\n",
      "Neutral Before                   30             40                 30\n",
      "Ineffective Before               20             30                 40\n",
      "\n",
      "Chi-Square Statistic: 22.16\n",
      "Degrees of Freedom: 4\n",
      "P-Value: 0.0002\n",
      "There is a significant difference in job performance before and after training. ✅\n"
     ]
    }
   ],
   "source": [
    "import numpy as np\n",
    "import scipy.stats as stats\n",
    "import pandas as pd\n",
    "\n",
    "# Sample data: Job performance levels before (rows) and after (columns) training\n",
    "data = np.array([\n",
    "    [50, 30, 20],  # Effective before training\n",
    "    [30, 40, 30],  # Neutral before training\n",
    "    [20, 30, 40]   # Ineffective before training\n",
    "])\n",
    "\n",
    "# Define row and column labels\n",
    "before_labels = [\"Effective Before\", \"Neutral Before\", \"Ineffective Before\"]\n",
    "after_labels = [\"Effective After\", \"Neutral After\", \"Ineffective After\"]\n",
    "\n",
    "# Create a contingency table (DataFrame for better readability)\n",
    "contingency_table = pd.DataFrame(data, index=before_labels, columns=after_labels)\n",
    "print(\"Contingency Table:\\n\", contingency_table)\n",
    "\n",
    "# Perform Chi-Square test\n",
    "chi2_stat, p_value, dof, expected = stats.chi2_contingency(data)\n",
    "\n",
    "# Print results\n",
    "print(f\"\\nChi-Square Statistic: {chi2_stat:.2f}\")\n",
    "print(f\"Degrees of Freedom: {dof}\")\n",
    "print(f\"P-Value: {p_value:.4f}\")\n",
    "\n",
    "# Decision Rule\n",
    "alpha = 0.05  # Significance level\n",
    "if p_value < alpha:\n",
    "    print(\"There is a significant difference in job performance before and after training. ✅\")\n",
    "else:\n",
    "    print(\"No significant difference in job performance before and after training. ❌\")\n"
   ]
  },
  {
   "cell_type": "markdown",
   "metadata": {},
   "source": [
    "24.  A company produces three different versions of a product: Standard, Premium, and Deluxe. The company wants to determine if there is a significant difference in customer satisfaction scores among the three product versions. They conducted a survey and collected customer satisfaction scores for each \n",
    "version from a random sample of customers. Perform an ANOVA test to determine if there is a significant difference in customer satisfaction scores.\n",
    "\n",
    " Use the following data:\n",
    " ```python\n",
    " # Sample data: Customer satisfaction scores for each product version\n",
    " standard_scores = [80, 85, 90, 78, 88, 82, 92, 78, 85, 87]\n",
    " ```\n",
    " premium_scores = [90, 92, 88, 92, 95, 91, 96, 93, 89, 93]\n",
    " deluxe_scores = [95, 98, 92, 97, 96, 94, 98, 97, 92, 99]\n",
    "  ```"
   ]
  },
  {
   "cell_type": "code",
   "execution_count": 46,
   "metadata": {},
   "outputs": [
    {
     "name": "stdout",
     "output_type": "stream",
     "text": [
      "ANOVA F-Statistic: 27.04\n",
      "P-Value: 0.0000\n",
      "There is a significant difference in customer satisfaction among the product versions. ✅\n"
     ]
    }
   ],
   "source": [
    "import scipy.stats as stats\n",
    "\n",
    "# Sample data: Customer satisfaction scores for each product version\n",
    "standard_scores = [80, 85, 90, 78, 88, 82, 92, 78, 85, 87]\n",
    "premium_scores = [90, 92, 88, 92, 95, 91, 96, 93, 89, 93]\n",
    "deluxe_scores = [95, 98, 92, 97, 96, 94, 98, 97, 92, 99]\n",
    "\n",
    "# Perform One-Way ANOVA test\n",
    "f_statistic, p_value = stats.f_oneway(standard_scores, premium_scores, deluxe_scores)\n",
    "\n",
    "# Print results\n",
    "print(f\"ANOVA F-Statistic: {f_statistic:.2f}\")\n",
    "print(f\"P-Value: {p_value:.4f}\")\n",
    "\n",
    "# Decision Rule\n",
    "alpha = 0.05  # Significance level\n",
    "if p_value < alpha:\n",
    "    print(\"There is a significant difference in customer satisfaction among the product versions. ✅\")\n",
    "else:\n",
    "    print(\"No significant difference in customer satisfaction among the product versions. ❌\")\n"
   ]
  },
  {
   "cell_type": "code",
   "execution_count": null,
   "metadata": {},
   "outputs": [],
   "source": []
  }
 ],
 "metadata": {
  "kernelspec": {
   "display_name": "Python 3",
   "language": "python",
   "name": "python3"
  },
  "language_info": {
   "codemirror_mode": {
    "name": "ipython",
    "version": 3
   },
   "file_extension": ".py",
   "mimetype": "text/x-python",
   "name": "python",
   "nbconvert_exporter": "python",
   "pygments_lexer": "ipython3",
   "version": "3.12.6"
  }
 },
 "nbformat": 4,
 "nbformat_minor": 2
}
